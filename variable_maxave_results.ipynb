{
 "cells": [
  {
   "cell_type": "markdown",
   "metadata": {},
   "source": [
    "## Max fitnesses:\n",
    "\n",
    "<img src=\"2024-10-15-15-00-51.png\" width=\"600\">"
   ]
  },
  {
   "cell_type": "markdown",
   "metadata": {},
   "source": [
    "Note that 94 and 126 shared the same env 2. Yet they are different in the y-axis. Not a huge difference tho.\n",
    "\n",
    "<img src=\"2024-10-15-15-08-34.png\" width=\"300\">\n",
    "\n",
    "Also 50 and 122 shared same env 1. Contrary to above, they evolved the same x-axis. This could be because it is an easy target and it maxed out anyways.\n",
    "Also 90, 154 and 18 shared the same env 1. but not much variation along the x-axis. or the y for that matter.\n",
    "\n",
    "Note that 102 had a bunch of variation among replicates - not like other. Others are pretty consistent. But for 102, 3/5 reps learned both envs, 2 just sucked. Maxs and aves:\n",
    "\n",
    "<img src=\"2024-10-15-15-17-24.png\" width=\"800\">"
   ]
  },
  {
   "cell_type": "markdown",
   "metadata": {},
   "source": [
    "Interesting rules to further investigate:\n",
    "\n",
    "102:\n",
    "\n",
    "<img src=\"2024-10-15-15-20-45.png\" width=\"400\">\n",
    "\n",
    "54:\n",
    "\n",
    "<img src=\"2024-10-15-15-20-10.png\" width=\"400\">\n",
    "\n",
    "62:\n",
    "\n",
    "<img src=\"2024-10-15-16-14-01.png\" width=\"400\">\n",
    "\n",
    "122:\n",
    "\n",
    "<img src=\"2024-10-15-15-28-08.png\" width=\"400\">\n",
    "\n",
    "18:\n",
    "\n",
    "<img src=\"2024-10-15-15-56-41.png\" width=\"400\">"
   ]
  },
  {
   "cell_type": "markdown",
   "metadata": {},
   "source": []
  }
 ],
 "metadata": {
  "language_info": {
   "name": "python"
  }
 },
 "nbformat": 4,
 "nbformat_minor": 2
}
