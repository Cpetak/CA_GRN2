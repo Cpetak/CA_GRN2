{
 "cells": [
  {
   "cell_type": "markdown",
   "metadata": {},
   "source": [
    "1024, 1 seed (CA GRN vs Global)\n",
    "\n",
    "<img src=\"2024-09-24-11-26-41.png\" width=\"600\">\n",
    "<!--- <img src=\"2024-09-24-11-27-16.png\" width=\"600\"> -->\n",
    "\n",
    "69904, 4 seeds\n",
    "\n",
    "<img src=\"2024-09-24-11-27-52.png\" width=\"600\">\n",
    "<!--- <img src=\"2024-09-24-11-28-16.png\" width=\"600\"> -->\n",
    "\n",
    "6 seeds\n",
    "\n",
    "<img src=\"2024-09-24-11-29-21.png\" width=\"600\">\n",
    "<!--- <img src=\"2024-09-24-11-29-32.png\" width=\"600\"> -->\n",
    "\n",
    "random 1\n",
    "\n",
    "<img src=\"2024-09-24-11-30-04.png\" width=\"600\">\n",
    "<!--- <img src=\"2024-09-24-11-30-17.png\" width=\"600\"> -->\n",
    "\n",
    "random 2\n",
    "\n",
    "<img src=\"2024-09-24-11-30-42.png\" width=\"600\">\n",
    "<!--- <img src=\"2024-09-24-11-30-52.png\" width=\"600\"> -->"
   ]
  },
  {
   "cell_type": "markdown",
   "metadata": {},
   "source": [
    "<img src=\"2024-09-24-12-31-38.png\" width=\"200\">\n",
    "\n",
    "<img src=\"2024-09-24-12-32-29.png\" width=\"200\">\n",
    "\n",
    "<img src=\"2024-09-24-12-33-14.png\" width=\"200\">"
   ]
  },
  {
   "cell_type": "markdown",
   "metadata": {},
   "source": [
    "Different seeds, same histograms"
   ]
  },
  {
   "cell_type": "markdown",
   "metadata": {},
   "source": [
    "GRN size of 10 doesn't change squat"
   ]
  },
  {
   "cell_type": "markdown",
   "metadata": {},
   "source": []
  }
 ],
 "metadata": {
  "language_info": {
   "name": "python"
  }
 },
 "nbformat": 4,
 "nbformat_minor": 2
}
