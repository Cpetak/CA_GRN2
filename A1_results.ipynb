{
 "cells": [
  {
   "cell_type": "markdown",
   "metadata": {},
   "source": [
    "1024, 1 seed (CA GRN vs Global)\n",
    "\n",
    "<img src=\"2024-09-24-11-26-41.png\" width=\"600\">\n",
    "<!--- <img src=\"2024-09-24-11-27-16.png\" width=\"600\"> -->\n",
    "\n",
    "69904, 4 seeds\n",
    "\n",
    "<img src=\"2024-09-24-11-27-52.png\" width=\"600\">\n",
    "<!--- <img src=\"2024-09-24-11-28-16.png\" width=\"600\"> -->\n",
    "\n",
    "6 seeds\n",
    "\n",
    "<img src=\"2024-09-24-11-29-21.png\" width=\"600\">\n",
    "<!--- <img src=\"2024-09-24-11-29-32.png\" width=\"600\"> -->\n",
    "\n",
    "random 1\n",
    "\n",
    "<img src=\"2024-09-24-11-30-04.png\" width=\"600\">\n",
    "<!--- <img src=\"2024-09-24-11-30-17.png\" width=\"600\"> -->\n",
    "\n",
    "random 2\n",
    "\n",
    "<img src=\"2024-09-24-11-30-42.png\" width=\"600\">\n",
    "<!--- <img src=\"2024-09-24-11-30-52.png\" width=\"600\"> -->"
   ]
  },
  {
   "cell_type": "markdown",
   "metadata": {},
   "source": [
    "<img src=\"2024-09-24-12-31-38.png\" width=\"200\">\n",
    "\n",
    "<img src=\"2024-09-24-12-32-29.png\" width=\"200\">\n",
    "\n",
    "<img src=\"2024-09-24-12-33-14.png\" width=\"200\">"
   ]
  },
  {
   "cell_type": "markdown",
   "metadata": {},
   "source": [
    "Different seeds, same histograms"
   ]
  },
  {
   "cell_type": "markdown",
   "metadata": {},
   "source": [
    "GRN size of 10 doesn't change squat of above"
   ]
  },
  {
   "cell_type": "markdown",
   "metadata": {},
   "source": [
    "10 genes, rule 54\n",
    "<img src=\"2024-09-24-14-37-14.png\" width=\"200\">\n",
    "\n",
    "22 genes, rule 54\n",
    "<img src=\"2024-09-24-14-42-13.png\" width=\"200\">\n",
    "\n",
    "<img src=\"2024-09-24-14-42-44.png\" width=\"200\">"
   ]
  },
  {
   "cell_type": "markdown",
   "metadata": {},
   "source": [
    "GRN size 10\n",
    "\n",
    "<img src=\"2024-09-24-14-45-57.png\" width=\"200\">\n",
    "\n",
    "GRN size 22\n",
    "\n",
    "<img src=\"2024-09-24-14-47-56.png\" width=\"200\">"
   ]
  },
  {
   "cell_type": "markdown",
   "metadata": {},
   "source": [
    "10 genes, rule 102\n",
    "<img src=\"2024-09-24-14-58-11.png\" width=\"200\">\n",
    "\n",
    "22 genes, rule 102\n",
    "<img src=\"2024-09-24-14-59-01.png\" width=\"200\">\n",
    "\n",
    "<img src=\"2024-09-24-15-00-14.png\" width=\"200\">"
   ]
  },
  {
   "cell_type": "markdown",
   "metadata": {},
   "source": [
    "10 genes\n",
    "<img src=\"2024-09-24-14-53-59.png\" width=\"200\"> (2/5 not as obvious)\n",
    "\n",
    "22 genes\n",
    "<img src=\"2024-09-24-15-01-22.png\" width=\"200\">"
   ]
  },
  {
   "cell_type": "markdown",
   "metadata": {},
   "source": [
    "Note: lower pop size (500) is worse. Lower mean fitness, larger variation"
   ]
  },
  {
   "cell_type": "markdown",
   "metadata": {},
   "source": []
  },
  {
   "cell_type": "markdown",
   "metadata": {},
   "source": []
  }
 ],
 "metadata": {
  "language_info": {
   "name": "python"
  }
 },
 "nbformat": 4,
 "nbformat_minor": 2
}
